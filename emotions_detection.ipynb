{
  "nbformat": 4,
  "nbformat_minor": 0,
  "metadata": {
    "colab": {
      "provenance": [],
      "gpuType": "T4"
    },
    "kernelspec": {
      "name": "python3",
      "display_name": "Python 3"
    },
    "language_info": {
      "name": "python"
    },
    "accelerator": "GPU"
  },
  "cells": [
    {
      "cell_type": "code",
      "execution_count": 4,
      "metadata": {
        "id": "HlTnt15gouc6"
      },
      "outputs": [],
      "source": [
        "import pandas as pd"
      ]
    },
    {
      "cell_type": "code",
      "source": [
        "from google.colab import drive\n",
        "drive.mount('/content/drive')"
      ],
      "metadata": {
        "id": "fUQpevXSpVCK",
        "colab": {
          "base_uri": "https://localhost:8080/"
        },
        "outputId": "39e3ca71-b575-46ce-d6e0-0439706d2e7c"
      },
      "execution_count": 5,
      "outputs": [
        {
          "output_type": "stream",
          "name": "stdout",
          "text": [
            "Mounted at /content/drive\n"
          ]
        }
      ]
    },
    {
      "cell_type": "code",
      "source": [
        "%cd /content/drive/MyDrive/emotion_detection\n",
        "!ls"
      ],
      "metadata": {
        "colab": {
          "base_uri": "https://localhost:8080/"
        },
        "id": "7JPWJSwVBCVE",
        "outputId": "f1326e7e-8498-4000-ec07-0fa5ade9f7fe"
      },
      "execution_count": 6,
      "outputs": [
        {
          "output_type": "stream",
          "name": "stdout",
          "text": [
            "/content/drive/MyDrive/emotion_detection\n",
            "data.txt  val.txt\n"
          ]
        }
      ]
    },
    {
      "cell_type": "code",
      "source": [
        "df = pd.read_csv('data.txt', sep=\";\" ,  header=None, names=[\"Comment\", \"Emotion\"])"
      ],
      "metadata": {
        "id": "QK-JBgQ2pf27"
      },
      "execution_count": 7,
      "outputs": []
    },
    {
      "cell_type": "code",
      "source": [
        "df.Emotion.value_counts()"
      ],
      "metadata": {
        "colab": {
          "base_uri": "https://localhost:8080/"
        },
        "id": "B-zoHITACkUS",
        "outputId": "3c39bb8b-13a8-42ad-b541-1ca414fbe5ea"
      },
      "execution_count": 8,
      "outputs": [
        {
          "output_type": "execute_result",
          "data": {
            "text/plain": [
              "joy         6057\n",
              "sadness     5247\n",
              "anger       2434\n",
              "fear        2161\n",
              "love        1463\n",
              "surprise     638\n",
              "Name: Emotion, dtype: int64"
            ]
          },
          "metadata": {},
          "execution_count": 8
        }
      ]
    },
    {
      "cell_type": "code",
      "source": [
        "df['Emotion_num'] = df['Emotion'].map({'joy' :0,'sadness':1,'anger':2, 'fear':3,'love':4 , 'surprise':5})"
      ],
      "metadata": {
        "id": "drKe2mUtBOqz"
      },
      "execution_count": 9,
      "outputs": []
    },
    {
      "cell_type": "markdown",
      "source": [
        "## 1- Without Data balancing + without data preprocessing"
      ],
      "metadata": {
        "id": "qCFz4g37J7SY"
      }
    },
    {
      "cell_type": "code",
      "source": [
        "from sklearn.model_selection import train_test_split\n",
        "X_train, X_test, y_train, y_test = train_test_split(\n",
        "    df.Comment,\n",
        "    df.Emotion_num,\n",
        "    test_size = 0.20,\n",
        "    random_state = 2022,\n",
        "    stratify=df.Emotion_num\n",
        ")"
      ],
      "metadata": {
        "id": "Cz-IFfA2D7IP"
      },
      "execution_count": 75,
      "outputs": []
    },
    {
      "cell_type": "code",
      "source": [
        "y_train.value_counts()"
      ],
      "metadata": {
        "colab": {
          "base_uri": "https://localhost:8080/"
        },
        "id": "dDU2Q_5qGgnB",
        "outputId": "52fc5fed-a538-4a1a-bc14-ab56b5c64e44"
      },
      "execution_count": 76,
      "outputs": [
        {
          "output_type": "execute_result",
          "data": {
            "text/plain": [
              "0    4846\n",
              "1    4198\n",
              "2    1947\n",
              "3    1729\n",
              "4    1170\n",
              "5     510\n",
              "Name: Emotion_num, dtype: int64"
            ]
          },
          "metadata": {},
          "execution_count": 76
        }
      ]
    },
    {
      "cell_type": "markdown",
      "source": [
        "### 1.1- Bag of n-grams (with only trigrams)"
      ],
      "metadata": {
        "id": "E7aMhsmqKsIo"
      }
    },
    {
      "cell_type": "markdown",
      "source": [
        "#### ----> Random Forest"
      ],
      "metadata": {
        "id": "VIZWWzDELAwc"
      }
    },
    {
      "cell_type": "code",
      "source": [
        "from sklearn.feature_extraction.text import CountVectorizer\n",
        "from sklearn.ensemble import RandomForestClassifier\n",
        "from sklearn.pipeline import Pipeline\n",
        "from sklearn.metrics import classification_report\n",
        "\n",
        "\n",
        "#1. create a pipeline object\n",
        "clf = Pipeline([\n",
        "    ('vectorizer_n_grams', CountVectorizer(ngram_range = (3, 3))),#using the ngram_range parameter\n",
        "    ('random_forest', (RandomForestClassifier()))\n",
        "])\n",
        "\n",
        "#2. fit with X_train and y_train\n",
        "clf.fit(X_train, y_train)\n",
        "\n",
        "\n",
        "#3. get the predictions for X_test and store it in y_pred\n",
        "y_pred = clf.predict(X_test)\n",
        "\n",
        "\n",
        "#4. print the classfication report\n",
        "print(classification_report(y_test, y_pred))"
      ],
      "metadata": {
        "colab": {
          "base_uri": "https://localhost:8080/"
        },
        "id": "JJBcK0B8Gx9q",
        "outputId": "b72a4d67-de12-4ed9-9779-69804e2da659"
      },
      "execution_count": 77,
      "outputs": [
        {
          "output_type": "stream",
          "name": "stdout",
          "text": [
            "              precision    recall  f1-score   support\n",
            "\n",
            "           0       0.47      0.64      0.55      1211\n",
            "           1       0.58      0.35      0.44      1049\n",
            "           2       0.47      0.24      0.32       487\n",
            "           3       0.21      0.50      0.30       432\n",
            "           4       0.49      0.08      0.14       293\n",
            "           5       0.67      0.12      0.21       128\n",
            "\n",
            "    accuracy                           0.42      3600\n",
            "   macro avg       0.48      0.32      0.33      3600\n",
            "weighted avg       0.48      0.42      0.41      3600\n",
            "\n"
          ]
        }
      ]
    },
    {
      "cell_type": "markdown",
      "source": [
        "### 1.2- Bag of n-grams (with unigram and bigrams)"
      ],
      "metadata": {
        "id": "wMXdx7V_MTKT"
      }
    },
    {
      "cell_type": "markdown",
      "source": [
        "#### ----> Multinomial Naive Bayes"
      ],
      "metadata": {
        "id": "eeS7ME4aMNBI"
      }
    },
    {
      "cell_type": "code",
      "source": [
        "from sklearn.feature_extraction.text import CountVectorizer\n",
        "from sklearn.naive_bayes import MultinomialNB\n",
        "from sklearn.pipeline import Pipeline\n",
        "from sklearn.metrics import classification_report\n",
        "\n",
        "\n",
        "#1. create a pipeline object\n",
        "clf = Pipeline([\n",
        "    ('vectorizer_n_grams', CountVectorizer(ngram_range = (1, 2))),\n",
        "    ('multinomial_naive_bayes', (MultinomialNB()))\n",
        "])\n",
        "\n",
        "#2. fit with X_train and y_train\n",
        "clf.fit(X_train, y_train)\n",
        "\n",
        "\n",
        "#3. get the predictions for X_test and store it in y_pred\n",
        "y_pred = clf.predict(X_test)\n",
        "\n",
        "\n",
        "#4. print the classfication report\n",
        "print(classification_report(y_test, y_pred))"
      ],
      "metadata": {
        "colab": {
          "base_uri": "https://localhost:8080/"
        },
        "id": "XhuDLcsaML6h",
        "outputId": "6475b76f-0b17-4a47-fd6c-79d55412765a"
      },
      "execution_count": 78,
      "outputs": [
        {
          "output_type": "stream",
          "name": "stdout",
          "text": [
            "              precision    recall  f1-score   support\n",
            "\n",
            "           0       0.61      0.98      0.75      1211\n",
            "           1       0.69      0.90      0.78      1049\n",
            "           2       0.94      0.30      0.46       487\n",
            "           3       0.84      0.26      0.39       432\n",
            "           4       0.92      0.08      0.15       293\n",
            "           5       1.00      0.02      0.03       128\n",
            "\n",
            "    accuracy                           0.67      3600\n",
            "   macro avg       0.84      0.42      0.43      3600\n",
            "weighted avg       0.75      0.67      0.60      3600\n",
            "\n"
          ]
        }
      ]
    },
    {
      "cell_type": "markdown",
      "source": [
        "#### ----> Random Forest"
      ],
      "metadata": {
        "id": "clZlrKLSNM1J"
      }
    },
    {
      "cell_type": "code",
      "source": [
        "#1. create a pipeline object\n",
        "clf = Pipeline([\n",
        "    ('vectorizer_n_grams', CountVectorizer(ngram_range = (1, 2))),\n",
        "    ('random_forest', (RandomForestClassifier()))\n",
        "])\n",
        "\n",
        "#2. fit with X_train and y_train\n",
        "clf.fit(X_train, y_train)\n",
        "\n",
        "\n",
        "#3. get the predictions for X_test and store it in y_pred\n",
        "y_pred = clf.predict(X_test)\n",
        "\n",
        "\n",
        "#4. print the classfication report\n",
        "print(classification_report(y_test, y_pred))"
      ],
      "metadata": {
        "colab": {
          "base_uri": "https://localhost:8080/"
        },
        "id": "8eg5GwRpNHs3",
        "outputId": "03b47065-55fb-4290-8608-ee17949c0a19"
      },
      "execution_count": 79,
      "outputs": [
        {
          "output_type": "stream",
          "name": "stdout",
          "text": [
            "              precision    recall  f1-score   support\n",
            "\n",
            "           0       0.77      0.95      0.85      1211\n",
            "           1       0.91      0.89      0.90      1049\n",
            "           2       0.92      0.78      0.84       487\n",
            "           3       0.86      0.74      0.79       432\n",
            "           4       0.88      0.61      0.72       293\n",
            "           5       0.82      0.61      0.70       128\n",
            "\n",
            "    accuracy                           0.84      3600\n",
            "   macro avg       0.86      0.76      0.80      3600\n",
            "weighted avg       0.85      0.84      0.84      3600\n",
            "\n"
          ]
        }
      ]
    },
    {
      "cell_type": "markdown",
      "source": [
        "### 2.1- TF-IDF vectorizer"
      ],
      "metadata": {
        "id": "_FBTF6ctNfbq"
      }
    },
    {
      "cell_type": "markdown",
      "source": [
        "#### ----> Random Forest"
      ],
      "metadata": {
        "id": "8QDmh0hxN6c3"
      }
    },
    {
      "cell_type": "code",
      "source": [
        "from sklearn.feature_extraction.text import TfidfVectorizer\n",
        "from sklearn.ensemble import RandomForestClassifier\n",
        "from sklearn.pipeline import Pipeline\n",
        "from sklearn.metrics import classification_report\n",
        "\n",
        "\n",
        "#1. create a pipeline object\n",
        "clf = Pipeline([\n",
        "     ('vectorizer_tfidf',TfidfVectorizer()),\n",
        "     ('Random Forest', RandomForestClassifier())\n",
        "])\n",
        "\n",
        "#2. fit with X_train and y_train\n",
        "clf.fit(X_train, y_train)\n",
        "\n",
        "\n",
        "#3. get the predictions for X_test and store it in y_pred\n",
        "y_pred = clf.predict(X_test)\n",
        "\n",
        "\n",
        "#4. print the classfication report\n",
        "print(classification_report(y_test, y_pred))"
      ],
      "metadata": {
        "colab": {
          "base_uri": "https://localhost:8080/"
        },
        "id": "KmDJJ0ChNe67",
        "outputId": "01a1a0b4-aa18-4b5a-e7bb-0a558b57ab27"
      },
      "execution_count": 80,
      "outputs": [
        {
          "output_type": "stream",
          "name": "stdout",
          "text": [
            "              precision    recall  f1-score   support\n",
            "\n",
            "           0       0.82      0.93      0.87      1211\n",
            "           1       0.91      0.89      0.90      1049\n",
            "           2       0.90      0.82      0.86       487\n",
            "           3       0.81      0.80      0.80       432\n",
            "           4       0.84      0.65      0.73       293\n",
            "           5       0.80      0.62      0.70       128\n",
            "\n",
            "    accuracy                           0.86      3600\n",
            "   macro avg       0.85      0.79      0.81      3600\n",
            "weighted avg       0.86      0.86      0.85      3600\n",
            "\n"
          ]
        }
      ]
    },
    {
      "cell_type": "markdown",
      "source": [
        "## 2- Without Data balancing + with data preprocessing"
      ],
      "metadata": {
        "id": "q_VU25LGOqGm"
      }
    },
    {
      "cell_type": "code",
      "source": [
        "import spacy\n",
        "\n",
        "# load english language model and create nlp object from it\n",
        "nlp = spacy.load(\"en_core_web_sm\")\n",
        "\n",
        "\n",
        "#use this utility function to get the preprocessed text data\n",
        "def preprocess(text):\n",
        "    # remove stop words and lemmatize the text\n",
        "    doc = nlp(text)\n",
        "    filtered_tokens = []\n",
        "    for token in doc:\n",
        "        if token.is_stop or token.is_punct:\n",
        "            continue\n",
        "        filtered_tokens.append(token.lemma_)\n",
        "\n",
        "    return \" \".join(filtered_tokens)"
      ],
      "metadata": {
        "id": "D12iIQufPjWk"
      },
      "execution_count": 3,
      "outputs": []
    },
    {
      "cell_type": "code",
      "source": [
        "df.preprocessed_comment = df.Comment.apply(preprocess)"
      ],
      "metadata": {
        "id": "AC6aHjGhPocp"
      },
      "execution_count": 11,
      "outputs": []
    },
    {
      "cell_type": "code",
      "source": [
        "from sklearn.model_selection import train_test_split\n",
        "X_train, X_test, y_train, y_test = train_test_split(\n",
        "    df.preprocessed_comment,\n",
        "    df.Emotion_num,\n",
        "    test_size = 0.20,\n",
        "    random_state = 2022,\n",
        "    stratify=df.Emotion_num\n",
        ")"
      ],
      "metadata": {
        "id": "5VFZE_HBP0I0"
      },
      "execution_count": 12,
      "outputs": []
    },
    {
      "cell_type": "markdown",
      "source": [
        "## ---> Let's check the scores with our best model till now"
      ],
      "metadata": {
        "id": "9S3UrQh9QAYl"
      }
    },
    {
      "cell_type": "markdown",
      "source": [
        "### 2.1-RandomForest (with unigram and bigrams)"
      ],
      "metadata": {
        "id": "bOgm3Sk_QYze"
      }
    },
    {
      "cell_type": "code",
      "source": [
        "from sklearn.feature_extraction.text import CountVectorizer\n",
        "from sklearn.ensemble import RandomForestClassifier\n",
        "from sklearn.pipeline import Pipeline\n",
        "from sklearn.metrics import classification_report\n",
        "#1. create a pipeline object\n",
        "clf = Pipeline([\n",
        "    ('vectorizer_n_grams', CountVectorizer(ngram_range = (1, 2))),\n",
        "    ('random_forest', (RandomForestClassifier()))\n",
        "])\n",
        "\n",
        "#2. fit with X_train and y_train\n",
        "clf.fit(X_train, y_train)\n",
        "\n",
        "\n",
        "#3. get the predictions for X_test and store it in y_pred\n",
        "y_pred = clf.predict(X_test)\n",
        "\n",
        "\n",
        "#4. print the classfication report\n",
        "print(classification_report(y_test, y_pred))"
      ],
      "metadata": {
        "colab": {
          "base_uri": "https://localhost:8080/"
        },
        "id": "WTHpH0oEP_xx",
        "outputId": "d215ac4b-4135-453f-b832-7983728d3e2d"
      },
      "execution_count": 15,
      "outputs": [
        {
          "output_type": "stream",
          "name": "stdout",
          "text": [
            "              precision    recall  f1-score   support\n",
            "\n",
            "           0       0.89      0.90      0.89      1211\n",
            "           1       0.89      0.93      0.91      1049\n",
            "           2       0.88      0.87      0.87       487\n",
            "           3       0.86      0.83      0.84       432\n",
            "           4       0.77      0.73      0.75       293\n",
            "           5       0.84      0.66      0.74       128\n",
            "\n",
            "    accuracy                           0.87      3600\n",
            "   macro avg       0.85      0.82      0.83      3600\n",
            "weighted avg       0.87      0.87      0.87      3600\n",
            "\n"
          ]
        }
      ]
    },
    {
      "cell_type": "markdown",
      "source": [
        "### 2.2-RandomForest (with TF-IDF Vectorizer)"
      ],
      "metadata": {
        "id": "utMvc4ZFRJn-"
      }
    },
    {
      "cell_type": "code",
      "source": [
        "from sklearn.feature_extraction.text import TfidfVectorizer\n",
        "from sklearn.ensemble import RandomForestClassifier\n",
        "from sklearn.pipeline import Pipeline\n",
        "from sklearn.metrics import classification_report\n",
        "\n",
        "\n",
        "#1. create a pipeline object\n",
        "clf = Pipeline([\n",
        "     ('vectorizer_tfidf',TfidfVectorizer()),\n",
        "     ('Random Forest', RandomForestClassifier())\n",
        "])\n",
        "\n",
        "#2. fit with X_train and y_train\n",
        "clf.fit(X_train, y_train)\n",
        "\n",
        "\n",
        "#3. get the predictions for X_test and store it in y_pred\n",
        "y_pred = clf.predict(X_test)\n",
        "\n",
        "\n",
        "#4. print the classfication report\n",
        "print(classification_report(y_test, y_pred))"
      ],
      "metadata": {
        "colab": {
          "base_uri": "https://localhost:8080/"
        },
        "id": "9AeKv-tSRJJs",
        "outputId": "ea145846-5eba-4201-8e61-8d6573ab0cb9"
      },
      "execution_count": 16,
      "outputs": [
        {
          "output_type": "stream",
          "name": "stdout",
          "text": [
            "              precision    recall  f1-score   support\n",
            "\n",
            "           0       0.82      0.91      0.86      1211\n",
            "           1       0.90      0.86      0.88      1049\n",
            "           2       0.87      0.85      0.86       487\n",
            "           3       0.80      0.82      0.81       432\n",
            "           4       0.78      0.66      0.71       293\n",
            "           5       0.77      0.62      0.68       128\n",
            "\n",
            "    accuracy                           0.84      3600\n",
            "   macro avg       0.82      0.78      0.80      3600\n",
            "weighted avg       0.84      0.84      0.84      3600\n",
            "\n"
          ]
        }
      ]
    },
    {
      "cell_type": "markdown",
      "source": [
        "## 3- With Data balancing + with data preprocessing"
      ],
      "metadata": {
        "id": "UR19TlqlSjrW"
      }
    },
    {
      "cell_type": "code",
      "source": [
        "from sklearn.model_selection import train_test_split\n",
        "X_train, X_test, y_train, y_test = train_test_split(\n",
        "    df.preprocessed_comment,\n",
        "    df.Emotion_num,\n",
        "    test_size = 0.20,\n",
        "    random_state = 2022,\n",
        "    stratify=df.Emotion_num\n",
        ")"
      ],
      "metadata": {
        "id": "Lb2McvisbMNH"
      },
      "execution_count": 18,
      "outputs": []
    },
    {
      "cell_type": "markdown",
      "source": [
        "## ---> Let's check the scores with our best model till now"
      ],
      "metadata": {
        "id": "wxfVu2dwaJyV"
      }
    },
    {
      "cell_type": "markdown",
      "source": [
        "### 2.1-RandomForest (with unigram and bigrams)"
      ],
      "metadata": {
        "id": "ocHtrgXDaNRI"
      }
    },
    {
      "cell_type": "code",
      "source": [
        "from imblearn.over_sampling import SMOTE\n",
        "\n",
        "smt = SMOTE(random_state=42)"
      ],
      "metadata": {
        "id": "xefsjFpnexLa"
      },
      "execution_count": 19,
      "outputs": []
    },
    {
      "cell_type": "code",
      "source": [
        "from sklearn.feature_extraction.text import CountVectorizer\n",
        "from sklearn.ensemble import RandomForestClassifier\n",
        "from imblearn.pipeline import Pipeline\n",
        "from sklearn.metrics import classification_report\n",
        "\n",
        "#1. create a pipeline object\n",
        "clf = Pipeline([\n",
        "    ('vectorizer_n_grams', CountVectorizer(ngram_range = (1, 2))),\n",
        "    ('smote', smt),\n",
        "    ('random_forest', (RandomForestClassifier()))\n",
        "])\n",
        "\n",
        "#2. fit with X_train and y_train\n",
        "clf.fit(X_train, y_train)\n",
        "\n",
        "\n",
        "#3. get the predictions for X_test and store it in y_pred\n",
        "y_pred = clf.predict(X_test)\n",
        "\n",
        "\n",
        "#4. print the classfication report\n",
        "print(classification_report(y_test, y_pred))"
      ],
      "metadata": {
        "colab": {
          "base_uri": "https://localhost:8080/"
        },
        "id": "dGbbOVhxaF9Y",
        "outputId": "f98e7b14-4d74-49b3-b5e3-3f0e4a9bd4f9"
      },
      "execution_count": 20,
      "outputs": [
        {
          "output_type": "stream",
          "name": "stdout",
          "text": [
            "              precision    recall  f1-score   support\n",
            "\n",
            "           0       0.92      0.76      0.83      1211\n",
            "           1       0.90      0.79      0.84      1049\n",
            "           2       0.69      0.81      0.74       487\n",
            "           3       0.74      0.75      0.74       432\n",
            "           4       0.52      0.81      0.64       293\n",
            "           5       0.53      0.89      0.67       128\n",
            "\n",
            "    accuracy                           0.78      3600\n",
            "   macro avg       0.72      0.80      0.74      3600\n",
            "weighted avg       0.82      0.78      0.79      3600\n",
            "\n"
          ]
        }
      ]
    },
    {
      "cell_type": "code",
      "source": [
        "from sklearn.feature_extraction.text import TfidfVectorizer\n",
        "from sklearn.ensemble import RandomForestClassifier\n",
        "from imblearn.pipeline import Pipeline\n",
        "from sklearn.metrics import classification_report\n",
        "\n",
        "#1. create a pipeline object\n",
        "clf = Pipeline([\n",
        "    ('tfidf_vectorizer',TfidfVectorizer()),\n",
        "    ('smote', smt),\n",
        "    ('random_forest', (RandomForestClassifier()))\n",
        "])\n",
        "\n",
        "#2. fit with X_train and y_train\n",
        "clf.fit(X_train, y_train)\n",
        "\n",
        "\n",
        "#3. get the predictions for X_test and store it in y_pred\n",
        "y_pred = clf.predict(X_test)\n",
        "\n",
        "\n",
        "#4. print the classfication report\n",
        "print(classification_report(y_test, y_pred))"
      ],
      "metadata": {
        "colab": {
          "base_uri": "https://localhost:8080/"
        },
        "id": "Jxl262_vgnJb",
        "outputId": "79d63fa9-851b-45ce-8521-8162384a79e5"
      },
      "execution_count": 21,
      "outputs": [
        {
          "output_type": "stream",
          "name": "stdout",
          "text": [
            "              precision    recall  f1-score   support\n",
            "\n",
            "           0       0.82      0.87      0.84      1211\n",
            "           1       0.91      0.81      0.85      1049\n",
            "           2       0.84      0.85      0.85       487\n",
            "           3       0.78      0.80      0.79       432\n",
            "           4       0.66      0.74      0.70       293\n",
            "           5       0.69      0.65      0.67       128\n",
            "\n",
            "    accuracy                           0.82      3600\n",
            "   macro avg       0.78      0.79      0.78      3600\n",
            "weighted avg       0.83      0.82      0.82      3600\n",
            "\n"
          ]
        }
      ]
    },
    {
      "cell_type": "markdown",
      "source": [
        "## -----> Best Model = Without Balancing + With preprocessing + RandomForest(Bag of N-grams(1,2))"
      ],
      "metadata": {
        "id": "2mPBtMqLpuaZ"
      }
    },
    {
      "cell_type": "code",
      "source": [
        "import pandas as pd\n",
        "df = pd.read_csv('data.txt', sep=\";\" ,  header=None, names=[\"Comment\", \"Emotion\"])\n",
        "df['Emotion_num'] = df['Emotion'].map({'joy' :0,'sadness':1,'anger':2, 'fear':3,'love':4 , 'surprise':5})"
      ],
      "metadata": {
        "id": "h6jZTqOLqJW9"
      },
      "execution_count": null,
      "outputs": []
    },
    {
      "cell_type": "code",
      "source": [
        "import spacy\n",
        "\n",
        "# load english language model and create nlp object from it\n",
        "nlp = spacy.load(\"en_core_web_sm\")\n",
        "\n",
        "\n",
        "#use this utility function to get the preprocessed text data\n",
        "def preprocess(text):\n",
        "    # remove stop words and lemmatize the text\n",
        "    doc = nlp(text)\n",
        "    filtered_tokens = []\n",
        "    for token in doc:\n",
        "        if token.is_stop or token.is_punct:\n",
        "            continue\n",
        "        filtered_tokens.append(token.lemma_)\n",
        "\n",
        "    return \" \".join(filtered_tokens)"
      ],
      "metadata": {
        "id": "ypuwBDepqGYd"
      },
      "execution_count": null,
      "outputs": []
    },
    {
      "cell_type": "code",
      "source": [
        "df.preprocessed_comment = df.Comment.apply(preprocess)"
      ],
      "metadata": {
        "id": "46BIe7Xaqg8x"
      },
      "execution_count": null,
      "outputs": []
    },
    {
      "cell_type": "code",
      "source": [
        "from sklearn.model_selection import train_test_split\n",
        "X_train, X_test, y_train, y_test = train_test_split(\n",
        "    df.preprocessed_comment,\n",
        "    df.Emotion_num,\n",
        "    test_size = 0.20,\n",
        "    random_state = 2022,\n",
        "    stratify=df.Emotion_num\n",
        ")"
      ],
      "metadata": {
        "id": "5KyioWtlqjOV"
      },
      "execution_count": null,
      "outputs": []
    },
    {
      "cell_type": "code",
      "source": [
        "from sklearn.feature_extraction.text import CountVectorizer\n",
        "from sklearn.ensemble import RandomForestClassifier\n",
        "from sklearn.pipeline import Pipeline\n",
        "from sklearn.metrics import classification_report\n",
        "#1. create a pipeline object\n",
        "clf = Pipeline([\n",
        "    ('vectorizer_n_grams', CountVectorizer(ngram_range = (1, 2))),\n",
        "    ('random_forest', (RandomForestClassifier()))\n",
        "])\n",
        "\n",
        "#2. fit with X_train and y_train\n",
        "clf.fit(X_train, y_train)\n",
        "\n",
        "\n",
        "#3. get the predictions for X_test and store it in y_pred\n",
        "y_pred = clf.predict(X_test)\n",
        "\n",
        "\n",
        "#4. print the classfication report\n",
        "print(classification_report(y_test, y_pred))"
      ],
      "metadata": {
        "colab": {
          "base_uri": "https://localhost:8080/"
        },
        "id": "inukiteBp6vC",
        "outputId": "b245774f-7cfe-40d9-a536-6d1b56953a9b"
      },
      "execution_count": 22,
      "outputs": [
        {
          "output_type": "stream",
          "name": "stdout",
          "text": [
            "              precision    recall  f1-score   support\n",
            "\n",
            "           0       0.90      0.90      0.90      1211\n",
            "           1       0.89      0.93      0.91      1049\n",
            "           2       0.88      0.88      0.88       487\n",
            "           3       0.86      0.83      0.84       432\n",
            "           4       0.78      0.74      0.76       293\n",
            "           5       0.84      0.66      0.74       128\n",
            "\n",
            "    accuracy                           0.88      3600\n",
            "   macro avg       0.86      0.82      0.84      3600\n",
            "weighted avg       0.87      0.88      0.87      3600\n",
            "\n"
          ]
        }
      ]
    },
    {
      "cell_type": "code",
      "source": [
        "# Exporting NB Classifier to later use in prediction\n",
        "import joblib\n",
        "joblib.dump(clf, 'classifier_emotions_model')"
      ],
      "metadata": {
        "colab": {
          "base_uri": "https://localhost:8080/"
        },
        "id": "at_guZIxq-hm",
        "outputId": "48bc15c8-ab83-4daf-c506-d6fe6a81fa7c"
      },
      "execution_count": 23,
      "outputs": [
        {
          "output_type": "execute_result",
          "data": {
            "text/plain": [
              "['classifier_emotions_model']"
            ]
          },
          "metadata": {},
          "execution_count": 23
        }
      ]
    }
  ]
}